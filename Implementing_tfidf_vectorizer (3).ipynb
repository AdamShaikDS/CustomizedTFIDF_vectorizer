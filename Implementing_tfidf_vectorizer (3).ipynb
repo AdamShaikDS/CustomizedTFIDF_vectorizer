{
  "nbformat": 4,
  "nbformat_minor": 0,
  "metadata": {
    "colab": {
      "name": "Implementing_tfidf_vectorizer.ipynb",
      "provenance": [],
      "collapsed_sections": []
    },
    "kernelspec": {
      "name": "python3",
      "display_name": "Python 3"
    },
    "language_info": {
      "name": "python"
    }
  },
  "cells": [
    {
      "cell_type": "code",
      "execution_count": 1,
      "metadata": {
        "id": "iNutcRVblKTk"
      },
      "outputs": [],
      "source": [
        "from collections import Counter\n",
        "from tqdm import tqdm\n",
        "from scipy.sparse import csr_matrix\n",
        "import math\n",
        "import operator\n",
        "from sklearn.preprocessing import normalize\n",
        "import numpy"
      ]
    },
    {
      "cell_type": "code",
      "source": [
        "import warnings\n",
        "warnings.filterwarnings(\"ignore\")\n",
        "import pandas as pd\n",
        "from tqdm import tqdm\n",
        "import os"
      ],
      "metadata": {
        "id": "DHLHN1zNlWbk"
      },
      "execution_count": 2,
      "outputs": []
    },
    {
      "cell_type": "code",
      "source": [
        ""
      ],
      "metadata": {
        "colab": {
          "base_uri": "https://localhost:8080/"
        },
        "id": "plKBZkmfndCZ",
        "outputId": "d43bf5dd-716c-480e-a96b-2f3b2e14dc0b"
      },
      "execution_count": null,
      "outputs": [
        {
          "output_type": "stream",
          "name": "stdout",
          "text": [
            "abc 2\n",
            "def 2\n",
            "zzz 2\n",
            "pqr 1\n"
          ]
        }
      ]
    },
    {
      "cell_type": "code",
      "source": [
        "\n",
        "        \n",
        "        "
      ],
      "metadata": {
        "id": "GStTU6TTlhz7"
      },
      "execution_count": null,
      "outputs": []
    },
    {
      "cell_type": "code",
      "source": [
        "corpus = [\n",
        "     'this is the first document',\n",
        "     'this document is the second document',\n",
        "     'and this is the third one',\n",
        "     'is this the first document',\n",
        "]"
      ],
      "metadata": {
        "id": "TQ-_kk5jmH-G"
      },
      "execution_count": 83,
      "outputs": []
    },
    {
      "cell_type": "code",
      "source": [
        "def calculateIDF(vocab,dataset):  #this method calculates idf and returns idf of all the vocablary it will check each vocab is present in each sentence /n\n",
        "    count = 0                     #of corpus if yes counter will be increased finally we get in how many senstences a word is present in corpus\n",
        "    idf_list = dict()\n",
        "    for key in vocab.keys():\n",
        "        \n",
        "        for row in dataset:\n",
        "            if key in row:\n",
        "                count = count+1\n",
        "        IDF = 1 + (math.log((1+len(dataset))/(count+1)))   \n",
        "        idf_list[key] = IDF\n",
        "         #idf_list.append(IDF)\n",
        "        count = 0\n",
        "    return idf_list"
      ],
      "metadata": {
        "id": "2UuZZpCCEPGK"
      },
      "execution_count": 93,
      "outputs": []
    },
    {
      "cell_type": "code",
      "source": [
        "def calculateTFIDF(row,IDF_list_method): #TFIDF is achieved by multiplying idf calculated in previous method with term frequency arugments are each document /n\n",
        "    final_dict = dict()                  #from coprpus \n",
        "    word_freq = dict(Counter(row.split()))\n",
        "    \n",
        "    \n",
        "    for i,j in enumerate(word_freq):\n",
        "        \n",
        "        \n",
        "        if j in IDF_list_method.keys():\n",
        "           \n",
        "           final_dict[j]=(word_freq.get(j)/len(word_freq)) * IDF_list_method[j]\n",
        "\n",
        "        \n",
        "    \n",
        "    return final_dict"
      ],
      "metadata": {
        "id": "2Efxjz8CEXA-"
      },
      "execution_count": 94,
      "outputs": []
    },
    {
      "cell_type": "code",
      "source": [
        "from tqdm import tqdm # tqdm is a library that helps us to visualize the runtime of for loop. refer this to know more about tqdm\n",
        "#https://tqdm.github.io/\n",
        "\n",
        "# it accepts only list of sentances\n",
        "def fit(dataset):    \n",
        "    unique_words = set() # at first we will initialize an empty set\n",
        "    final_IDF = dict()\n",
        "    vocab = dict()\n",
        "    IDF_list_method = dict()\n",
        "    # check if its list type or not\n",
        "    \n",
        "    if isinstance(dataset, (list,)):\n",
        "        for row in dataset: # for each review in the dataset\n",
        "           \n",
        "           \n",
        "            #print(len(final_IDF))\n",
        "            for word in row.split(\" \"): # for each word in the review. #split method converts a string into list of words\n",
        "                if len(word) < 2:\n",
        "                    continue\n",
        "                unique_words.add(word)\n",
        "        unique_words = sorted(list(unique_words))  # sorting unique words\n",
        "        vocab = {j:i for i,j in enumerate(unique_words)} # building vocab dictionary\n",
        "        IDF_list_method = calculateIDF(vocab,dataset)  #calculating idf for each vocab\n",
        "        \n",
        "        \n",
        "        \n",
        "        return vocab,IDF_list_method\n",
        "    else:\n",
        "        print(\"you need to pass list of sentance\")"
      ],
      "metadata": {
        "id": "cyJIQlPmlmko"
      },
      "execution_count": 95,
      "outputs": []
    },
    {
      "cell_type": "code",
      "source": [
        "def transform(dataset,vocab,IDF_list_method):\n",
        "    rows = []\n",
        "    columns = []\n",
        "    values = []\n",
        "    if isinstance(dataset, (list,)):\n",
        "        for idx, row in enumerate(tqdm(dataset)): # for each document in the dataset\n",
        "            \n",
        "            # it will return a dict type object where key is the word and values is its frequency, {word:TFIDF}\n",
        "            #word_freq = dict(Counter(row.split()))\n",
        "            word_freq=calculateTFIDF(row,IDF_list_method) # return dictionary contains word and TFIDF value\n",
        "\n",
        "            if len(word_freq) == 0:   # check dictionary is not empty\n",
        "               continue\n",
        "            \n",
        "            # for every unique word in the document\n",
        "            for word, freq in word_freq.items():  # for each unique word in the review.\n",
        "                         \n",
        "                if len(word) < 2:\n",
        "                    continue\n",
        "                # we will check if its there in the vocabulary that we build in fit() function\n",
        "                # dict.get() function will return the values, if the key doesn't exits it will return -1\n",
        "                col_index = vocab.get(word, -1) # retreving the dimension number of a word\n",
        "                \n",
        "                # if the word exists\n",
        "                if col_index !=-1:\n",
        "                    # we are storing the index of the document\n",
        "                    rows.append(idx)\n",
        "                    \n",
        "                    # we are storing the dimensions of the word\n",
        "                    columns.append(col_index)\n",
        "                    \n",
        "                    # we are storing the frequency of the word\n",
        "                    values.append(freq)\n",
        "                    \n",
        "                    \n",
        "                    \n",
        "        return csr_matrix((values, (rows,columns)), shape=(len(dataset),len(vocab)))\n",
        "    else:\n",
        "        print(\"you need to pass list of strings\")"
      ],
      "metadata": {
        "id": "OsEeWFgS3Yim"
      },
      "execution_count": 96,
      "outputs": []
    },
    {
      "cell_type": "code",
      "source": [
        "vocab,IDF_list_method = fit(corpus)\n",
        "print(vocab)\n",
        "print(IDF_list_method)\n",
        "\n",
        "print(normalize((transform(corpus, vocab, IDF_list_method)), norm='l2') ) #normalizing the sparse matrix\n",
        "\n"
      ],
      "metadata": {
        "colab": {
          "base_uri": "https://localhost:8080/"
        },
        "id": "AoUkU79NASTB",
        "outputId": "79641b29-2db5-4b80-ebb7-19d862c3eb09"
      },
      "execution_count": 97,
      "outputs": [
        {
          "output_type": "stream",
          "name": "stdout",
          "text": [
            "{'and': 0, 'document': 1, 'first': 2, 'is': 3, 'one': 4, 'second': 5, 'the': 6, 'third': 7, 'this': 8}\n",
            "{'and': 1.916290731874155, 'document': 1.2231435513142097, 'first': 1.5108256237659907, 'is': 1.0, 'one': 1.916290731874155, 'second': 1.916290731874155, 'the': 1.0, 'third': 1.916290731874155, 'this': 1.0}\n"
          ]
        },
        {
          "output_type": "stream",
          "name": "stderr",
          "text": [
            "100%|██████████| 4/4 [00:00<00:00, 14413.42it/s]"
          ]
        },
        {
          "output_type": "stream",
          "name": "stdout",
          "text": [
            "  (0, 1)\t0.4697913855799205\n",
            "  (0, 2)\t0.580285823684436\n",
            "  (0, 3)\t0.3840852409148149\n",
            "  (0, 6)\t0.3840852409148149\n",
            "  (0, 8)\t0.3840852409148149\n",
            "  (1, 1)\t0.6876235979836937\n",
            "  (1, 3)\t0.2810886740337529\n",
            "  (1, 5)\t0.5386476208856762\n",
            "  (1, 6)\t0.2810886740337529\n",
            "  (1, 8)\t0.2810886740337529\n",
            "  (2, 0)\t0.511848512707169\n",
            "  (2, 3)\t0.267103787642168\n",
            "  (2, 4)\t0.511848512707169\n",
            "  (2, 6)\t0.267103787642168\n",
            "  (2, 7)\t0.511848512707169\n",
            "  (2, 8)\t0.267103787642168\n",
            "  (3, 1)\t0.4697913855799205\n",
            "  (3, 2)\t0.580285823684436\n",
            "  (3, 3)\t0.3840852409148149\n",
            "  (3, 6)\t0.3840852409148149\n",
            "  (3, 8)\t0.3840852409148149\n"
          ]
        },
        {
          "output_type": "stream",
          "name": "stderr",
          "text": [
            "\n"
          ]
        }
      ]
    },
    {
      "cell_type": "code",
      "source": [
        "import pickle\n",
        "with open('cleaned_strings', 'rb') as f:\n",
        "    corpus2 = pickle.load(f)\n",
        "    \n",
        "# printing the length of the corpus loaded\n",
        "print(\"Number of documents in corpus = \",len(corpus2))"
      ],
      "metadata": {
        "colab": {
          "base_uri": "https://localhost:8080/"
        },
        "id": "Bxd8BRMg_MQg",
        "outputId": "f01ce78e-0744-4efe-ebcc-483079d6b75d"
      },
      "execution_count": 89,
      "outputs": [
        {
          "output_type": "stream",
          "name": "stdout",
          "text": [
            "Number of documents in corpus =  746\n"
          ]
        }
      ]
    },
    {
      "cell_type": "code",
      "source": [
        "def Fetch_top50_vocab(vocab,top_50_idf_values):  # aurguments are all the vocab and top 50 idf values will retrn top 50 vocab values with column numbers\n",
        "    vocab_50 = dict()\n",
        "    count = -1\n",
        "    for i,j in enumerate(vocab):\n",
        "        \n",
        "        if j in top_50_idf_values.keys():\n",
        "          count = count + 1\n",
        "          vocab_50[j] = count\n",
        "    print(vocab_50)      \n",
        "    return vocab_50\n",
        "        \n",
        "    "
      ],
      "metadata": {
        "id": "vlIqFkhQe3G_"
      },
      "execution_count": 98,
      "outputs": []
    },
    {
      "cell_type": "code",
      "source": [
        "from tqdm import tqdm # tqdm is a library that helps us to visualize the runtime of for loop. refer this to know more about tqdm\n",
        "#https://tqdm.github.io/\n",
        "\n",
        "# it accepts only list of sentances\n",
        "def fit_50(dataset):    \n",
        "    unique_words = set() # at first we will initialize an empty set\n",
        "    final_IDF = dict()\n",
        "    vocab = dict()\n",
        "    IDF_list_method = dict()\n",
        "    # check if its list type or not\n",
        "    \n",
        "    if isinstance(dataset, (list,)):\n",
        "        for row in dataset: # for each review in the dataset\n",
        "           \n",
        "           \n",
        "            \n",
        "            for word in row.split(\" \"): # for each word in the review. #split method converts a string into list of words\n",
        "                if len(word) < 2:\n",
        "                    continue\n",
        "                unique_words.add(word)\n",
        "        unique_words = sorted(list(unique_words))\n",
        "        vocab = {j:i for i,j in enumerate(unique_words)}\n",
        "        \n",
        "        IDF_list_method = calculateIDF(vocab,dataset)\n",
        "        \n",
        "        sorted_dict = {k: v for k,v in sorted(IDF_list_method.items(), key=lambda v: v[1], reverse=True)} #sorting dictionary based on values in descending order\n",
        "        \n",
        "        \n",
        "        first_50 = {k: sorted_dict[k] for k in list(sorted_dict)[:50]} # retriving top 50 idf values \n",
        "        \n",
        "        vocab_50 = Fetch_top50_vocab(vocab,first_50)  # retriving top 50 vocabvalues with column numbers\n",
        "        \n",
        "        \n",
        "        \n",
        "        return vocab_50,first_50  #returning top 50 idf and vocab values\n",
        "    else:\n",
        "        print(\"you need to pass list of sentance\")"
      ],
      "metadata": {
        "id": "ersro16jw8Q_"
      },
      "execution_count": 99,
      "outputs": []
    },
    {
      "cell_type": "code",
      "source": [
        "vocab_50,first_50 = fit_50(corpus2)\n",
        "\n",
        "print(normalize((transform(corpus2, vocab_50, first_50)), norm='l2') ) # normalizing sparse transform output\n"
      ],
      "metadata": {
        "id": "yr9tpKyNr2Nc",
        "colab": {
          "base_uri": "https://localhost:8080/"
        },
        "outputId": "9e3bad39-8a8f-4066-a1ab-f3bd8ac7dd05"
      },
      "execution_count": 100,
      "outputs": [
        {
          "output_type": "stream",
          "name": "stdout",
          "text": [
            "{'aailiyah': 0, 'abandoned': 1, 'abroad': 2, 'abstruse': 3, 'academy': 4, 'accents': 5, 'accessible': 6, 'acclaimed': 7, 'accolades': 8, 'accurately': 9, 'achille': 10, 'ackerman': 11, 'adams': 12, 'added': 13, 'admins': 14, 'admiration': 15, 'admitted': 16, 'adrift': 17, 'adventure': 18, 'aesthetically': 19, 'affected': 20, 'affleck': 21, 'afternoon': 22, 'agreed': 23, 'aimless': 24, 'aired': 25, 'akasha': 26, 'alert': 27, 'alike': 28, 'allison': 29, 'allowing': 30, 'alongside': 31, 'amateurish': 32, 'amazed': 33, 'amazingly': 34, 'amusing': 35, 'amust': 36, 'anatomist': 37, 'angela': 38, 'angelina': 39, 'angry': 40, 'anguish': 41, 'angus': 42, 'animals': 43, 'animated': 44, 'anita': 45, 'anniversary': 46, 'anthony': 47, 'antithesis': 48, 'anyway': 49}\n"
          ]
        },
        {
          "output_type": "stream",
          "name": "stderr",
          "text": [
            "100%|██████████| 746/746 [00:00<00:00, 101103.49it/s]"
          ]
        },
        {
          "output_type": "stream",
          "name": "stdout",
          "text": [
            "  (0, 24)\t1.0\n",
            "  (19, 43)\t1.0\n",
            "  (68, 21)\t1.0\n",
            "  (72, 23)\t1.0\n",
            "  (74, 25)\t1.0\n",
            "  (89, 47)\t1.0\n",
            "  (135, 3)\t0.3779644730092272\n",
            "  (135, 9)\t0.3779644730092272\n",
            "  (135, 15)\t0.3779644730092272\n",
            "  (135, 17)\t0.3779644730092272\n",
            "  (135, 29)\t0.3779644730092272\n",
            "  (135, 32)\t0.3779644730092272\n",
            "  (135, 40)\t0.3779644730092272\n",
            "  (176, 39)\t1.0\n",
            "  (192, 18)\t1.0\n",
            "  (193, 20)\t1.0\n",
            "  (216, 2)\t1.0\n",
            "  (225, 16)\t1.0\n",
            "  (227, 14)\t1.0\n",
            "  (241, 35)\t1.0\n",
            "  (270, 1)\t1.0\n",
            "  (290, 22)\t1.0\n",
            "  (341, 34)\t1.0\n",
            "  (344, 33)\t1.0\n",
            "  (348, 8)\t1.0\n",
            "  (409, 5)\t1.0\n",
            "  (430, 31)\t1.0\n",
            "  (457, 36)\t1.0\n",
            "  (461, 4)\t0.7071067811865475\n",
            "  (461, 44)\t0.7071067811865475\n",
            "  (465, 30)\t1.0\n",
            "  (475, 28)\t1.0\n",
            "  (493, 6)\t1.0\n",
            "  (500, 38)\t1.0\n",
            "  (544, 41)\t1.0\n",
            "  (548, 0)\t0.7071067811865475\n",
            "  (548, 26)\t0.7071067811865475\n",
            "  (608, 12)\t1.0\n",
            "  (612, 10)\t1.0\n",
            "  (620, 37)\t0.7071067811865476\n",
            "  (620, 42)\t0.7071067811865476\n",
            "  (632, 7)\t1.0\n",
            "  (644, 11)\t0.5773502691896257\n",
            "  (644, 45)\t0.5773502691896257\n",
            "  (644, 46)\t0.5773502691896257\n",
            "  (667, 19)\t1.0\n",
            "  (691, 27)\t1.0\n",
            "  (699, 48)\t1.0\n",
            "  (722, 13)\t1.0\n",
            "  (735, 49)\t1.0\n"
          ]
        },
        {
          "output_type": "stream",
          "name": "stderr",
          "text": [
            "\n"
          ]
        }
      ]
    },
    {
      "cell_type": "code",
      "source": [
        ""
      ],
      "metadata": {
        "id": "TgwKTF5i_Zf-"
      },
      "execution_count": null,
      "outputs": []
    },
    {
      "cell_type": "markdown",
      "source": [
        "**reference from the refernce_notebook provided as a part of assignment**"
      ],
      "metadata": {
        "id": "1yS5Im6Zx1GR"
      }
    }
  ]
}